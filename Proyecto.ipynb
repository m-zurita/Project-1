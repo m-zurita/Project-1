{
 "cells": [
  {
   "cell_type": "code",
   "execution_count": 2,
   "metadata": {},
   "outputs": [],
   "source": [
    "import pandas as pd\n",
    "import json"
   ]
  },
  {
   "cell_type": "code",
   "execution_count": 3,
   "metadata": {
    "scrolled": true
   },
   "outputs": [
    {
     "data": {
      "text/html": [
       "<div>\n",
       "<style scoped>\n",
       "    .dataframe tbody tr th:only-of-type {\n",
       "        vertical-align: middle;\n",
       "    }\n",
       "\n",
       "    .dataframe tbody tr th {\n",
       "        vertical-align: top;\n",
       "    }\n",
       "\n",
       "    .dataframe thead th {\n",
       "        text-align: right;\n",
       "    }\n",
       "</style>\n",
       "<table border=\"1\" class=\"dataframe\">\n",
       "  <thead>\n",
       "    <tr style=\"text-align: right;\">\n",
       "      <th></th>\n",
       "      <th>movie_id</th>\n",
       "      <th>title</th>\n",
       "      <th>cast</th>\n",
       "      <th>crew</th>\n",
       "    </tr>\n",
       "  </thead>\n",
       "  <tbody>\n",
       "    <tr>\n",
       "      <th>0</th>\n",
       "      <td>19995</td>\n",
       "      <td>Avatar</td>\n",
       "      <td>[{\"cast_id\": 242, \"character\": \"Jake Sully\", \"...</td>\n",
       "      <td>[{\"credit_id\": \"52fe48009251416c750aca23\", \"de...</td>\n",
       "    </tr>\n",
       "    <tr>\n",
       "      <th>1</th>\n",
       "      <td>285</td>\n",
       "      <td>Pirates of the Caribbean: At World's End</td>\n",
       "      <td>[{\"cast_id\": 4, \"character\": \"Captain Jack Spa...</td>\n",
       "      <td>[{\"credit_id\": \"52fe4232c3a36847f800b579\", \"de...</td>\n",
       "    </tr>\n",
       "  </tbody>\n",
       "</table>\n",
       "</div>"
      ],
      "text/plain": [
       "   movie_id                                     title  \\\n",
       "0     19995                                    Avatar   \n",
       "1       285  Pirates of the Caribbean: At World's End   \n",
       "\n",
       "                                                cast  \\\n",
       "0  [{\"cast_id\": 242, \"character\": \"Jake Sully\", \"...   \n",
       "1  [{\"cast_id\": 4, \"character\": \"Captain Jack Spa...   \n",
       "\n",
       "                                                crew  \n",
       "0  [{\"credit_id\": \"52fe48009251416c750aca23\", \"de...  \n",
       "1  [{\"credit_id\": \"52fe4232c3a36847f800b579\", \"de...  "
      ]
     },
     "execution_count": 3,
     "metadata": {},
     "output_type": "execute_result"
    }
   ],
   "source": [
    "datos = pd.read_csv(\"./Resources/tmdb_5000_movies.csv\")\n",
    "datos.head(2)\n",
    "datos_credits = pd.read_csv(\"./Resources/tmdb_5000_credits.csv\")\n",
    "datos_credits.head(2)"
   ]
  },
  {
   "cell_type": "code",
   "execution_count": 11,
   "metadata": {
    "scrolled": false
   },
   "outputs": [
    {
     "data": {
      "text/plain": [
       "'[{\"credit_id\": \"52fe4232c3a36847f800b579\", \"department\": \"Camera\", \"gender\": 2, \"id\": 120, \"job\": \"Director of Photography\", \"name\": \"Dariusz Wolski\"}, {\"credit_id\": \"52fe4232c3a36847f800b4fd\", \"department\": \"Directing\", \"gender\": 2, \"id\": 1704, \"job\": \"Director\", \"name\": \"Gore Verbinski\"}, {\"credit_id\": \"52fe4232c3a36847f800b54f\", \"department\": \"Production\", \"gender\": 2, \"id\": 770, \"job\": \"Producer\", \"name\": \"Jerry Bruckheimer\"}, {\"credit_id\": \"52fe4232c3a36847f800b503\", \"department\": \"Writing\", \"gender\": 2, \"id\": 1705, \"job\": \"Screenplay\", \"name\": \"Ted Elliott\"}, {\"credit_id\": \"52fe4232c3a36847f800b509\", \"department\": \"Writing\", \"gender\": 2, \"id\": 1706, \"job\": \"Screenplay\", \"name\": \"Terry Rossio\"}, {\"credit_id\": \"52fe4232c3a36847f800b57f\", \"department\": \"Editing\", \"gender\": 0, \"id\": 1721, \"job\": \"Editor\", \"name\": \"Stephen E. Rivkin\"}, {\"credit_id\": \"52fe4232c3a36847f800b585\", \"department\": \"Editing\", \"gender\": 2, \"id\": 1722, \"job\": \"Editor\", \"name\": \"Craig Wood\"}, {\"credit_id\": \"52fe4232c3a36847f800b573\", \"department\": \"Sound\", \"gender\": 2, \"id\": 947, \"job\": \"Original Music Composer\", \"name\": \"Hans Zimmer\"}, {\"credit_id\": \"52fe4232c3a36847f800b555\", \"department\": \"Production\", \"gender\": 2, \"id\": 2444, \"job\": \"Executive Producer\", \"name\": \"Mike Stenson\"}, {\"credit_id\": \"52fe4232c3a36847f800b561\", \"department\": \"Production\", \"gender\": 2, \"id\": 2445, \"job\": \"Producer\", \"name\": \"Eric McLeod\"}, {\"credit_id\": \"52fe4232c3a36847f800b55b\", \"department\": \"Production\", \"gender\": 2, \"id\": 2446, \"job\": \"Producer\", \"name\": \"Chad Oman\"}, {\"credit_id\": \"52fe4232c3a36847f800b567\", \"department\": \"Production\", \"gender\": 0, \"id\": 2447, \"job\": \"Producer\", \"name\": \"Peter Kohn\"}, {\"credit_id\": \"52fe4232c3a36847f800b56d\", \"department\": \"Production\", \"gender\": 0, \"id\": 2448, \"job\": \"Producer\", \"name\": \"Pat Sandston\"}, {\"credit_id\": \"52fe4232c3a36847f800b58b\", \"department\": \"Production\", \"gender\": 1, \"id\": 2215, \"job\": \"Casting\", \"name\": \"Denise Chamian\"}, {\"credit_id\": \"52fe4232c3a36847f800b597\", \"department\": \"Art\", \"gender\": 2, \"id\": 1226, \"job\": \"Production Design\", \"name\": \"Rick Heinrichs\"}, {\"credit_id\": \"52fe4232c3a36847f800b59d\", \"department\": \"Art\", \"gender\": 2, \"id\": 553, \"job\": \"Art Direction\", \"name\": \"John Dexter\"}, {\"credit_id\": \"52fe4232c3a36847f800b591\", \"department\": \"Production\", \"gender\": 1, \"id\": 3311, \"job\": \"Casting\", \"name\": \"Priscilla John\"}, {\"credit_id\": \"52fe4232c3a36847f800b5a3\", \"department\": \"Art\", \"gender\": 1, \"id\": 4032, \"job\": \"Set Decoration\", \"name\": \"Cheryl Carasik\"}, {\"credit_id\": \"52fe4232c3a36847f800b5a9\", \"department\": \"Costume & Make-Up\", \"gender\": 0, \"id\": 4033, \"job\": \"Costume Design\", \"name\": \"Liz Dann\"}, {\"credit_id\": \"52fe4232c3a36847f800b5af\", \"department\": \"Costume & Make-Up\", \"gender\": 1, \"id\": 4034, \"job\": \"Costume Design\", \"name\": \"Penny Rose\"}, {\"credit_id\": \"56427ce8c3a3686a53000d8b\", \"department\": \"Sound\", \"gender\": 2, \"id\": 5132, \"job\": \"Music Supervisor\", \"name\": \"Bob Badami\"}, {\"credit_id\": \"55993c15c3a36855db002f33\", \"department\": \"Art\", \"gender\": 2, \"id\": 146439, \"job\": \"Conceptual Design\", \"name\": \"James Ward Byrkit\"}, {\"credit_id\": \"52fe4232c3a36847f800b5b9\", \"department\": \"Costume & Make-Up\", \"gender\": 1, \"id\": 406204, \"job\": \"Makeup Department Head\", \"name\": \"Ve Neill\"}, {\"credit_id\": \"56e47f7892514132690017bd\", \"department\": \"Crew\", \"gender\": 2, \"id\": 1259516, \"job\": \"Stunts\", \"name\": \"John Dixon\"}, {\"credit_id\": \"5740be639251416597000849\", \"department\": \"Crew\", \"gender\": 0, \"id\": 1336716, \"job\": \"CGI Supervisor\", \"name\": \"Dottie Starling\"}, {\"credit_id\": \"56427c639251412fc8000dc1\", \"department\": \"Directing\", \"gender\": 1, \"id\": 1344278, \"job\": \"Script Supervisor\", \"name\": \"Pamela Alch\"}, {\"credit_id\": \"57083101c3a3681d320004e6\", \"department\": \"Crew\", \"gender\": 0, \"id\": 1368867, \"job\": \"Special Effects Coordinator\", \"name\": \"Allen Hall\"}, {\"credit_id\": \"56427d5ec3a3686a62000d4a\", \"department\": \"Sound\", \"gender\": 0, \"id\": 1368884, \"job\": \"Music Editor\", \"name\": \"Melissa Muik\"}, {\"credit_id\": \"56427c7b9251412fd4000e07\", \"department\": \"Directing\", \"gender\": 1, \"id\": 1395290, \"job\": \"Script Supervisor\", \"name\": \"Sharron Reynolds\"}, {\"credit_id\": \"56427d2bc3a3686a53000d9b\", \"department\": \"Sound\", \"gender\": 0, \"id\": 1399327, \"job\": \"Music Editor\", \"name\": \"Barbara McDermott\"}, {\"credit_id\": \"56427cb4c3a3686a53000d87\", \"department\": \"Directing\", \"gender\": 1, \"id\": 1400738, \"job\": \"Script Supervisor\", \"name\": \"Karen Golden\"}, {\"credit_id\": \"56427d169251412fd4000e23\", \"department\": \"Sound\", \"gender\": 0, \"id\": 1534197, \"job\": \"Music Editor\", \"name\": \"Katie Greathouse\"}]'"
      ]
     },
     "execution_count": 11,
     "metadata": {},
     "output_type": "execute_result"
    }
   ],
   "source": [
    "datos_credits[\"crew\"][1]"
   ]
  },
  {
   "cell_type": "code",
   "execution_count": 117,
   "metadata": {},
   "outputs": [
    {
     "data": {
      "text/plain": [
       "{'name': 'Walt Disney Pictures', 'id': 2}"
      ]
     },
     "execution_count": 117,
     "metadata": {},
     "output_type": "execute_result"
    }
   ],
   "source": [
    "datos[\"production_companies\"]\n",
    "python_dict = json.loads(datos[\"production_companies\"][1])\n",
    "python_dict[0]"
   ]
  },
  {
   "cell_type": "code",
   "execution_count": 4,
   "metadata": {},
   "outputs": [
    {
     "name": "stdout",
     "output_type": "stream",
     "text": [
      "['hello', 'my name is Peter', 'I am 26 years old']\n"
     ]
    }
   ],
   "source": [
    "txt = \"hello, my name is Peter, I am 26 years old\"\n",
    "\n",
    "x = txt.split(\", \")\n",
    "\n",
    "print(x)"
   ]
  },
  {
   "cell_type": "code",
   "execution_count": 72,
   "metadata": {},
   "outputs": [
    {
     "data": {
      "text/plain": [
       "'Walt Disney Pictures'"
      ]
     },
     "execution_count": 72,
     "metadata": {},
     "output_type": "execute_result"
    }
   ],
   "source": [
    "datos['production_companies'][1].split(\":\")[1]\n",
    "y = datos['production_companies'][1].split(\",\")[0]\n",
    "y[11:-1]"
   ]
  },
  {
   "cell_type": "code",
   "execution_count": 73,
   "metadata": {},
   "outputs": [],
   "source": [
    "generos1 = []\n",
    "prueba = []\n",
    "for i in range(0,len(datos['genres'])):\n",
    "    try:\n",
    "        generos1.append(datos['genres'][i].split(\",\")[1])\n",
    "        prueba.append(generos1[i][10:-2])\n",
    "    except IndexError:\n",
    "        generos1.append(\" \")\n",
    "        prueba.append(\" \")"
   ]
  },
  {
   "cell_type": "code",
   "execution_count": 109,
   "metadata": {},
   "outputs": [],
   "source": [
    "generos1 = []\n",
    "for i in range(0,len(datos['genres'])):\n",
    "    try:\n",
    "        python_dict = json.loads(datos[\"genres\"][i])\n",
    "        generos1.append(python_dict[0]['name'])\n",
    "    except IndexError:\n",
    "        generos1.append(\" \")"
   ]
  },
  {
   "cell_type": "code",
   "execution_count": 118,
   "metadata": {},
   "outputs": [],
   "source": [
    "production_company = []\n",
    "for i in range(0,len(datos['production_companies'])):\n",
    "    try:\n",
    "        python_dict = json.loads(datos[\"production_companies\"][i])\n",
    "        production_company.append(python_dict[0]['name'])\n",
    "    except IndexError:\n",
    "        production_company.append(\" \")"
   ]
  },
  {
   "cell_type": "code",
   "execution_count": 120,
   "metadata": {},
   "outputs": [],
   "source": [
    "country =[]\n",
    "for i in range(0,len(datos['production_countries'])):\n",
    "    try:\n",
    "        python_dict = json.loads(datos[\"production_countries\"][i])\n",
    "        country.append(python_dict[0]['name'])\n",
    "    except IndexError:\n",
    "        country.append(\" \")"
   ]
  },
  {
   "cell_type": "code",
   "execution_count": 127,
   "metadata": {},
   "outputs": [],
   "source": [
    "cast1 =[]\n",
    "for i in range(0,len(datos_credits['cast'])):\n",
    "    try:\n",
    "        python_dict = json.loads(datos_credits[\"cast\"][i])\n",
    "        cast1.append(python_dict[0]['name'])\n",
    "    except IndexError:\n",
    "        cast1.append(\" \")"
   ]
  },
  {
   "cell_type": "code",
   "execution_count": 130,
   "metadata": {},
   "outputs": [],
   "source": [
    "cast2 =[]\n",
    "for i in range(0,len(datos_credits['cast'])):\n",
    "    try:\n",
    "        python_dict = json.loads(datos_credits[\"cast\"][i])\n",
    "        cast2.append(python_dict[1]['name'])\n",
    "    except IndexError:\n",
    "        cast2.append(\" \")"
   ]
  },
  {
   "cell_type": "code",
   "execution_count": 133,
   "metadata": {},
   "outputs": [],
   "source": [
    "cast3 =[]\n",
    "for i in range(0,len(datos_credits['cast'])):\n",
    "    try:\n",
    "        python_dict = json.loads(datos_credits[\"cast\"][i])\n",
    "        cast3.append(python_dict[2]['name'])\n",
    "    except IndexError:\n",
    "        cast3.append(\" \")"
   ]
  },
  {
   "cell_type": "code",
   "execution_count": 6,
   "metadata": {},
   "outputs": [
    {
     "data": {
      "text/plain": [
       "'[{\"credit_id\": \"52fe43809251416c75012ea9\", \"department\": \"Sound\", \"gender\": 2, \"id\": 947, \"job\": \"Music\", \"name\": \"Hans Zimmer\"}, {\"credit_id\": \"52fe43809251416c75012e71\", \"department\": \"Directing\", \"gender\": 2, \"id\": 956, \"job\": \"Director\", \"name\": \"Guy Ritchie\"}, {\"credit_id\": \"52fe43809251416c75012ecd\", \"department\": \"Production\", \"gender\": 2, \"id\": 1091, \"job\": \"Producer\", \"name\": \"Joel Silver\"}, {\"credit_id\": \"52fe43809251416c75012eaf\", \"department\": \"Production\", \"gender\": 2, \"id\": 1296, \"job\": \"Executive Producer\", \"name\": \"Bruce Berman\"}, {\"credit_id\": \"52fe43809251416c75012f09\", \"department\": \"Camera\", \"gender\": 2, \"id\": 1301, \"job\": \"Director of Photography\", \"name\": \"Philippe Rousselot\"}, {\"credit_id\": \"52fe43809251416c75012e97\", \"department\": \"Writing\", \"gender\": 0, \"id\": 41289, \"job\": \"Screenstory\", \"name\": \"Lionel Wigram\"}, {\"credit_id\": \"52fe43809251416c75012ed3\", \"department\": \"Production\", \"gender\": 0, \"id\": 41289, \"job\": \"Producer\", \"name\": \"Lionel Wigram\"}, {\"credit_id\": \"52fe43809251416c75012e91\", \"department\": \"Writing\", \"gender\": 2, \"id\": 11092, \"job\": \"Screenplay\", \"name\": \"Simon Kinberg\"}, {\"credit_id\": \"52fe43819251416c75012f15\", \"department\": \"Costume & Make-Up\", \"gender\": 1, \"id\": 17166, \"job\": \"Costume Design\", \"name\": \"Jenny Beavan\"}, {\"credit_id\": \"52fe43809251416c75012eb5\", \"department\": \"Production\", \"gender\": 2, \"id\": 17630, \"job\": \"Executive Producer\", \"name\": \"Michael Tadross\"}, {\"credit_id\": \"52fe43809251416c75012ea3\", \"department\": \"Writing\", \"gender\": 2, \"id\": 25167, \"job\": \"Characters\", \"name\": \"Arthur Conan Doyle\"}, {\"credit_id\": \"52fe43809251416c75012ebb\", \"department\": \"Production\", \"gender\": 1, \"id\": 29018, \"job\": \"Executive Producer\", \"name\": \"Dana Goldberg\"}, {\"credit_id\": \"52fe43809251416c75012f0f\", \"department\": \"Art\", \"gender\": 1, \"id\": 36656, \"job\": \"Production Design\", \"name\": \"Sarah Greenwood\"}, {\"credit_id\": \"536f8e660e0a2647d40124ea\", \"department\": \"Art\", \"gender\": 0, \"id\": 36658, \"job\": \"Set Decoration\", \"name\": \"Katie Spencer\"}, {\"credit_id\": \"52fe43809251416c75012ec1\", \"department\": \"Production\", \"gender\": 1, \"id\": 37162, \"job\": \"Producer\", \"name\": \"Susan Downey\"}, {\"credit_id\": \"52fe43809251416c75012f03\", \"department\": \"Editing\", \"gender\": 2, \"id\": 56917, \"job\": \"Editor\", \"name\": \"James Herbert\"}, {\"credit_id\": \"52fe43809251416c75012edf\", \"department\": \"Production\", \"gender\": 0, \"id\": 63127, \"job\": \"Producer\", \"name\": \"Steve Clark-Hall\"}, {\"credit_id\": \"52fe43809251416c75012e8b\", \"department\": \"Writing\", \"gender\": 2, \"id\": 71244, \"job\": \"Screenplay\", \"name\": \"Anthony Peckham\"}, {\"credit_id\": \"52fe43809251416c75012e9d\", \"department\": \"Writing\", \"gender\": 2, \"id\": 112689, \"job\": \"Screenstory\", \"name\": \"Michael Robert Johnson\"}, {\"credit_id\": \"52fe43809251416c75012ef5\", \"department\": \"Writing\", \"gender\": 2, \"id\": 112689, \"job\": \"Screenplay\", \"name\": \"Michael Robert Johnson\"}, {\"credit_id\": \"52fe43809251416c75012ec7\", \"department\": \"Production\", \"gender\": 2, \"id\": 112690, \"job\": \"Producer\", \"name\": \"Dan Lin\"}, {\"credit_id\": \"52fe43809251416c75012ed9\", \"department\": \"Production\", \"gender\": 0, \"id\": 112691, \"job\": \"Producer\", \"name\": \"Peter Eskelsen\"}, {\"credit_id\": \"579d0acec3a36837b20012b8\", \"department\": \"Sound\", \"gender\": 0, \"id\": 68016, \"job\": \"Orchestrator\", \"name\": \"Kevin Kaska\"}, {\"credit_id\": \"52fe43819251416c75012f1b\", \"department\": \"Production\", \"gender\": 0, \"id\": 1018073, \"job\": \"Casting\", \"name\": \"Reg Poerscout-Edgerton\"}, {\"credit_id\": \"52fe43819251416c75012f21\", \"department\": \"Camera\", \"gender\": 0, \"id\": 1181554, \"job\": \"Still Photographer\", \"name\": \"Alex Bailey\"}]'"
      ]
     },
     "execution_count": 6,
     "metadata": {},
     "output_type": "execute_result"
    }
   ],
   "source": [
    "python_dict = json.loads(datos_credits[\"crew\"][356])\n",
    "datos_credits[\"crew\"][356]"
   ]
  },
  {
   "cell_type": "code",
   "execution_count": 143,
   "metadata": {},
   "outputs": [
    {
     "data": {
      "text/plain": [
       "25"
      ]
     },
     "execution_count": 143,
     "metadata": {},
     "output_type": "execute_result"
    }
   ],
   "source": [
    "len(python_dict)"
   ]
  },
  {
   "cell_type": "code",
   "execution_count": 1,
   "metadata": {},
   "outputs": [
    {
     "ename": "NameError",
     "evalue": "name 'python_dict' is not defined",
     "output_type": "error",
     "traceback": [
      "\u001b[1;31m---------------------------------------------------------------------------\u001b[0m",
      "\u001b[1;31mNameError\u001b[0m                                 Traceback (most recent call last)",
      "\u001b[1;32m<ipython-input-1-43e87ee25a6d>\u001b[0m in \u001b[0;36m<module>\u001b[1;34m\u001b[0m\n\u001b[1;32m----> 1\u001b[1;33m \u001b[1;32mfor\u001b[0m \u001b[0mi\u001b[0m \u001b[1;32min\u001b[0m \u001b[0mpython_dict\u001b[0m\u001b[1;33m:\u001b[0m\u001b[1;33m\u001b[0m\u001b[1;33m\u001b[0m\u001b[0m\n\u001b[0m\u001b[0;32m      2\u001b[0m     \u001b[1;32mif\u001b[0m \u001b[0mi\u001b[0m\u001b[1;33m[\u001b[0m\u001b[1;34m\"job\"\u001b[0m\u001b[1;33m]\u001b[0m\u001b[1;33m==\u001b[0m\u001b[1;34m\"Productor\"\u001b[0m\u001b[1;33m:\u001b[0m\u001b[1;33m\u001b[0m\u001b[1;33m\u001b[0m\u001b[0m\n\u001b[0;32m      3\u001b[0m         \u001b[0mprint\u001b[0m\u001b[1;33m(\u001b[0m\u001b[0mi\u001b[0m\u001b[1;33m[\u001b[0m\u001b[1;34m\"name\"\u001b[0m\u001b[1;33m]\u001b[0m\u001b[1;33m)\u001b[0m\u001b[1;33m\u001b[0m\u001b[1;33m\u001b[0m\u001b[0m\n",
      "\u001b[1;31mNameError\u001b[0m: name 'python_dict' is not defined"
     ]
    }
   ],
   "source": [
    "for i in python_dict:\n",
    "    if i[\"job\"]==\"Productor\":\n",
    "        print(i[\"name\"])"
   ]
  },
  {
   "cell_type": "code",
   "execution_count": 1,
   "metadata": {},
   "outputs": [
    {
     "ename": "NameError",
     "evalue": "name 'datos_credits' is not defined",
     "output_type": "error",
     "traceback": [
      "\u001b[1;31m---------------------------------------------------------------------------\u001b[0m",
      "\u001b[1;31mNameError\u001b[0m                                 Traceback (most recent call last)",
      "\u001b[1;32m<ipython-input-1-97a4aea438e5>\u001b[0m in \u001b[0;36m<module>\u001b[1;34m\u001b[0m\n\u001b[0;32m      1\u001b[0m \u001b[0mcrew\u001b[0m\u001b[1;33m=\u001b[0m\u001b[1;33m[\u001b[0m\u001b[1;33m]\u001b[0m\u001b[1;33m\u001b[0m\u001b[1;33m\u001b[0m\u001b[0m\n\u001b[1;32m----> 2\u001b[1;33m \u001b[1;32mfor\u001b[0m \u001b[0mj\u001b[0m \u001b[1;32min\u001b[0m \u001b[0mrange\u001b[0m\u001b[1;33m(\u001b[0m\u001b[1;36m0\u001b[0m\u001b[1;33m,\u001b[0m\u001b[0mlen\u001b[0m\u001b[1;33m(\u001b[0m\u001b[0mdatos_credits\u001b[0m\u001b[1;33m[\u001b[0m\u001b[1;34m\"crew\"\u001b[0m\u001b[1;33m]\u001b[0m\u001b[1;33m)\u001b[0m\u001b[1;33m)\u001b[0m\u001b[1;33m:\u001b[0m\u001b[1;33m\u001b[0m\u001b[1;33m\u001b[0m\u001b[0m\n\u001b[0m\u001b[0;32m      3\u001b[0m     \u001b[1;32mtry\u001b[0m\u001b[1;33m:\u001b[0m\u001b[1;33m\u001b[0m\u001b[1;33m\u001b[0m\u001b[0m\n\u001b[0;32m      4\u001b[0m         \u001b[0mpython_dict\u001b[0m \u001b[1;33m=\u001b[0m \u001b[0mjson\u001b[0m\u001b[1;33m.\u001b[0m\u001b[0mloads\u001b[0m\u001b[1;33m(\u001b[0m\u001b[0mdatos_credits\u001b[0m\u001b[1;33m[\u001b[0m\u001b[1;34m\"crew\"\u001b[0m\u001b[1;33m]\u001b[0m\u001b[1;33m[\u001b[0m\u001b[0mj\u001b[0m\u001b[1;33m]\u001b[0m\u001b[1;33m)\u001b[0m\u001b[1;33m\u001b[0m\u001b[1;33m\u001b[0m\u001b[0m\n\u001b[0;32m      5\u001b[0m         \u001b[1;32mfor\u001b[0m \u001b[0mi\u001b[0m \u001b[1;32min\u001b[0m \u001b[0mpython_dict\u001b[0m\u001b[1;33m:\u001b[0m\u001b[1;33m\u001b[0m\u001b[1;33m\u001b[0m\u001b[0m\n",
      "\u001b[1;31mNameError\u001b[0m: name 'datos_credits' is not defined"
     ]
    }
   ],
   "source": [
    "crew=[]\n",
    "for j in range(0,len(datos_credits[\"crew\"])):\n",
    "    try:\n",
    "        python_dict = json.loads(datos_credits[\"crew\"][j])\n",
    "        for i in python_dict:\n",
    "            if i[\"job\"]==\"Director\":\n",
    "                crew.append(i[\"name\"])\n",
    "    except IndexError:\n",
    "        crew.append(\" \")"
   ]
  },
  {
   "cell_type": "code",
   "execution_count": 5,
   "metadata": {},
   "outputs": [],
   "source": [
    "director=[]\n",
    "for j in range(0,len(datos_credits[\"crew\"])):\n",
    "    try:\n",
    "        python_dict = json.loads(datos_credits[\"crew\"][j])\n",
    "        for i in python_dict:\n",
    "            if i[\"job\"]==\"Director\":\n",
    "                director.append(i[\"name\"])\n",
    "    except IndexError:\n",
    "        director.append(\" \")"
   ]
  },
  {
   "cell_type": "code",
   "execution_count": 9,
   "metadata": {},
   "outputs": [],
   "source": [
    "director_of_photography=[]\n",
    "for j in range(0,len(datos_credits[\"crew\"])):\n",
    "    try:\n",
    "        python_dict = json.loads(datos_credits[\"crew\"][j])\n",
    "        for i in python_dict:\n",
    "            if i[\"job\"]==\"Director of Photography\":\n",
    "                director_of_photography.append(i[\"name\"])\n",
    "    except IndexError:\n",
    "        director_of_photography.append(\" \")"
   ]
  },
  {
   "cell_type": "code",
   "execution_count": 12,
   "metadata": {},
   "outputs": [],
   "source": [
    "writer=[]\n",
    "for j in range(0,len(datos_credits[\"crew\"])):\n",
    "    try:\n",
    "        python_dict = json.loads(datos_credits[\"crew\"][j])\n",
    "        for i in python_dict:\n",
    "            if i[\"job\"]==\"Writer\":\n",
    "                writer.append(i[\"name\"])\n",
    "    except IndexError:\n",
    "        writer.append(\" \")"
   ]
  },
  {
   "cell_type": "code",
   "execution_count": 15,
   "metadata": {},
   "outputs": [],
   "source": [
    "producer=[]\n",
    "for j in range(0,len(datos_credits[\"crew\"])):\n",
    "    try:\n",
    "        python_dict = json.loads(datos_credits[\"crew\"][j])\n",
    "        for i in python_dict:\n",
    "            if i[\"job\"]==\"Producer\":\n",
    "                producer.append(i[\"name\"])\n",
    "    except IndexError:\n",
    "        producer.append(\" \")"
   ]
  },
  {
   "cell_type": "code",
   "execution_count": 18,
   "metadata": {},
   "outputs": [],
   "source": [
    "music_composer=[]\n",
    "for j in range(0,len(datos_credits[\"crew\"])):\n",
    "    try:\n",
    "        python_dict = json.loads(datos_credits[\"crew\"][j])\n",
    "        for i in python_dict:\n",
    "            if i[\"job\"]==\"Original Music Composer\":\n",
    "                music_composer.append(i[\"name\"])\n",
    "    except IndexError:\n",
    "        music_composer.append(\" \")"
   ]
  }
 ],
 "metadata": {
  "kernelspec": {
   "display_name": "Python 3",
   "language": "python",
   "name": "python3"
  },
  "language_info": {
   "codemirror_mode": {
    "name": "ipython",
    "version": 3
   },
   "file_extension": ".py",
   "mimetype": "text/x-python",
   "name": "python",
   "nbconvert_exporter": "python",
   "pygments_lexer": "ipython3",
   "version": "3.7.1"
  }
 },
 "nbformat": 4,
 "nbformat_minor": 2
}
